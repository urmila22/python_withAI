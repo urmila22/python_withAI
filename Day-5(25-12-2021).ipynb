{
 "cells": [
  {
   "cell_type": "markdown",
   "id": "cb1e7965",
   "metadata": {},
   "source": [
    "# markdown\n",
    "## markdown\n",
    "### markdown\n",
    "#### markdown\n",
    "\n",
    "- python\n",
    "    - python 1\n",
    "    - python 2\n",
    "        - python idle\n",
    "- *python*\n",
    "- **python**\n",
    "- ***python***"
   ]
  },
  {
   "cell_type": "markdown",
   "id": "a4806cd2",
   "metadata": {},
   "source": [
    "# Print Function()\n",
    "  -it allows us to print a text or a message"
   ]
  },
  {
   "cell_type": "code",
   "execution_count": 1,
   "id": "f8bec350",
   "metadata": {},
   "outputs": [
    {
     "name": "stdout",
     "output_type": "stream",
     "text": [
      "hello world\n"
     ]
    }
   ],
   "source": [
    "print(\"hello world\")"
   ]
  },
  {
   "cell_type": "code",
   "execution_count": 2,
   "id": "bc3da073",
   "metadata": {},
   "outputs": [
    {
     "name": "stdout",
     "output_type": "stream",
     "text": [
      "HELLO WORLD\n"
     ]
    }
   ],
   "source": [
    "print(\"HELLO WORLD\")"
   ]
  },
  {
   "cell_type": "code",
   "execution_count": 3,
   "id": "4591a95d",
   "metadata": {},
   "outputs": [
    {
     "name": "stdout",
     "output_type": "stream",
     "text": [
      "one two three\n"
     ]
    }
   ],
   "source": [
    "print(\"one\",\"two\",\"three\")"
   ]
  },
  {
   "cell_type": "markdown",
   "id": "a422561d",
   "metadata": {},
   "source": [
    "# VARIABLES\n",
    "        - it is stores a value"
   ]
  },
  {
   "cell_type": "code",
   "execution_count": 6,
   "id": "f3c66b78",
   "metadata": {},
   "outputs": [],
   "source": [
    "a = 10 # a value is assigned to the variable"
   ]
  },
  {
   "cell_type": "code",
   "execution_count": 7,
   "id": "06644e61",
   "metadata": {},
   "outputs": [
    {
     "name": "stdout",
     "output_type": "stream",
     "text": [
      "10\n"
     ]
    }
   ],
   "source": [
    "print(a)"
   ]
  },
  {
   "cell_type": "code",
   "execution_count": 8,
   "id": "0c9c670c",
   "metadata": {},
   "outputs": [
    {
     "name": "stdout",
     "output_type": "stream",
     "text": [
      "10 10 10\n"
     ]
    }
   ],
   "source": [
    "a = b= c =10 #multiple variables are assigned to a single value\n",
    "print(a,b,c)"
   ]
  },
  {
   "cell_type": "code",
   "execution_count": 9,
   "id": "c0cbbee6",
   "metadata": {},
   "outputs": [
    {
     "name": "stdout",
     "output_type": "stream",
     "text": [
      "10 20 30\n"
     ]
    }
   ],
   "source": [
    "a,b,c=10,20,30 # multiple values for multiple variables\n",
    "print(a,b,c)"
   ]
  },
  {
   "cell_type": "markdown",
   "id": "44fa27df",
   "metadata": {},
   "source": [
    "# Data Types\n",
    "- int\n",
    "- float\n",
    "- string"
   ]
  },
  {
   "cell_type": "code",
   "execution_count": 10,
   "id": "e5d75b2a",
   "metadata": {},
   "outputs": [
    {
     "name": "stdout",
     "output_type": "stream",
     "text": [
      "5 <class 'int'>\n"
     ]
    }
   ],
   "source": [
    "# int\n",
    "a = 5\n",
    "print(a,type(a))"
   ]
  },
  {
   "cell_type": "code",
   "execution_count": 11,
   "id": "fe1a1278",
   "metadata": {},
   "outputs": [
    {
     "name": "stdout",
     "output_type": "stream",
     "text": [
      "1.2 <class 'float'>\n"
     ]
    }
   ],
   "source": [
    "# float\n",
    "f= 1.2\n",
    "print(f,type(f))"
   ]
  },
  {
   "cell_type": "code",
   "execution_count": 12,
   "id": "cf2ea9e3",
   "metadata": {},
   "outputs": [
    {
     "name": "stdout",
     "output_type": "stream",
     "text": [
      "python <class 'str'>\n"
     ]
    }
   ],
   "source": [
    "# string\n",
    "s= \"python\"\n",
    "print(s,type(s))"
   ]
  },
  {
   "cell_type": "code",
   "execution_count": 13,
   "id": "04e5ea0a",
   "metadata": {},
   "outputs": [
    {
     "name": "stdout",
     "output_type": "stream",
     "text": [
      "8 <class 'int'>\n",
      "8.0 <class 'float'>\n",
      "8.0 <class 'str'>\n"
     ]
    }
   ],
   "source": [
    "a = 8\n",
    "print(a,type(a))\n",
    "n= float(a)\n",
    "print(n,type(n))\n",
    "f= str(n)\n",
    "print(f,type(f))"
   ]
  },
  {
   "cell_type": "code",
   "execution_count": 14,
   "id": "c1c37596",
   "metadata": {},
   "outputs": [
    {
     "name": "stdout",
     "output_type": "stream",
     "text": [
      "3.6 <class 'float'>\n",
      "3 <class 'int'>\n",
      "3 <class 'str'>\n"
     ]
    }
   ],
   "source": [
    "f= 3.6\n",
    "print(f,type(f))\n",
    "g= int(f)\n",
    "print(g,type(g))\n",
    "h= str(g)\n",
    "print(h,type(h))"
   ]
  },
  {
   "cell_type": "code",
   "execution_count": 15,
   "id": "df99f691",
   "metadata": {},
   "outputs": [
    {
     "name": "stdout",
     "output_type": "stream",
     "text": [
      "844 <class 'str'>\n",
      "844 <class 'int'>\n",
      "844.0 <class 'float'>\n"
     ]
    }
   ],
   "source": [
    "s= \"844\"\n",
    "print(s,type(s))\n",
    "d= int(s)\n",
    "print(d,type(d))\n",
    "y= float(d)\n",
    "print(y,type(y))"
   ]
  },
  {
   "cell_type": "code",
   "execution_count": 37,
   "id": "1e5b402f",
   "metadata": {},
   "outputs": [
    {
     "name": "stdout",
     "output_type": "stream",
     "text": [
      "name**is**james\n"
     ]
    }
   ],
   "source": [
    "print(\"name**is**james\")"
   ]
  },
  {
   "cell_type": "code",
   "execution_count": 24,
   "id": "d877bae0",
   "metadata": {},
   "outputs": [
    {
     "name": "stdout",
     "output_type": "stream",
     "text": [
      "radius of the circle5\n",
      "area = 78.57142857142857\n"
     ]
    }
   ],
   "source": [
    "r= int(input(\"radius of the circle\"))\n",
    "area = 22/7*r*r\n",
    "print(\"area =\",area)"
   ]
  },
  {
   "cell_type": "code",
   "execution_count": 26,
   "id": "611b2ff7",
   "metadata": {},
   "outputs": [
    {
     "name": "stdout",
     "output_type": "stream",
     "text": [
      "enter the first no=4\n",
      "enter the econd no=2\n",
      "sum= 6 multiplication= 8 division= 2\n"
     ]
    }
   ],
   "source": [
    "a=int(input(\"enter the first no=\"))\n",
    "b=int(input(\"enter the econd no=\"))\n",
    "sum= a+b\n",
    "multi= a*b\n",
    "div=a//b\n",
    "print(\"sum=\",sum,\"multiplication=\",multi,\"division=\",div)"
   ]
  },
  {
   "cell_type": "code",
   "execution_count": 39,
   "id": "022d142f",
   "metadata": {},
   "outputs": [
    {
     "name": "stdout",
     "output_type": "stream",
     "text": [
      "The Year =2001\n",
      "result 2051\n"
     ]
    }
   ],
   "source": [
    "a=int(input(\"The Year =\"))\n",
    "print(\"result\",a+50)"
   ]
  },
  {
   "cell_type": "code",
   "execution_count": null,
   "id": "b1001041",
   "metadata": {},
   "outputs": [],
   "source": []
  }
 ],
 "metadata": {
  "kernelspec": {
   "display_name": "Python 3 (ipykernel)",
   "language": "python",
   "name": "python3"
  },
  "language_info": {
   "codemirror_mode": {
    "name": "ipython",
    "version": 3
   },
   "file_extension": ".py",
   "mimetype": "text/x-python",
   "name": "python",
   "nbconvert_exporter": "python",
   "pygments_lexer": "ipython3",
   "version": "3.9.7"
  }
 },
 "nbformat": 4,
 "nbformat_minor": 5
}
