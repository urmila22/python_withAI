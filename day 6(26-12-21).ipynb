{
 "cells": [
  {
   "cell_type": "code",
   "execution_count": null,
   "id": "838d68e2",
   "metadata": {},
   "outputs": [],
   "source": [
    "# OPERATORS\n",
    "- +\n",
    "- -\n",
    "- *\n",
    "- %\n",
    "- **\n",
    "- //\n",
    "- /"
   ]
  },
  {
   "cell_type": "code",
   "execution_count": 2,
   "id": "655b441a",
   "metadata": {},
   "outputs": [
    {
     "name": "stdout",
     "output_type": "stream",
     "text": [
      "8\n",
      "2\n",
      "15\n",
      "2\n",
      "125\n",
      "1\n",
      "1.6666666666666667\n"
     ]
    }
   ],
   "source": [
    "a=5\n",
    "b=3\n",
    "print(a+b)\n",
    "print(a-b)\n",
    "print(a*b)\n",
    "print(a%b)\n",
    "print(a**b)\n",
    "print(a//b)\n",
    "print(a/b)"
   ]
  },
  {
   "cell_type": "markdown",
   "id": "f0d9367a",
   "metadata": {},
   "source": [
    "#ASSIGNMENT OPERATORS\n",
    "- USED TO ASSIGN A VALUE TO VARIABLE\n",
    "- OPERATORS\n",
    "  - **'+='**\n",
    "  - **'-='**\n",
    "  - **'*='**\n",
    "  - **'/='**\n",
    "  - **'%='**\n",
    "   - **'//='**\n",
    "    - **'**='**\n",
    "    \n",
    "  \n",
    "  \n",
    "\n",
    "\n"
   ]
  },
  {
   "cell_type": "code",
   "execution_count": 3,
   "id": "3d0f9547",
   "metadata": {},
   "outputs": [
    {
     "name": "stdout",
     "output_type": "stream",
     "text": [
      "11\n",
      "5\n",
      "30\n",
      "5.0\n",
      "15625.0\n",
      "2604.0\n"
     ]
    }
   ],
   "source": [
    "a=5\n",
    "a+=6\n",
    "print(a)\n",
    "a-=6\n",
    "print(a)\n",
    "a*=6\n",
    "print(a)\n",
    "a/=6\n",
    "print(a)\n",
    "a**=6\n",
    "print(a)\n",
    "a//=6\n",
    "print(a)\n",
    "\n"
   ]
  },
  {
   "cell_type": "markdown",
   "id": "64cb9dc6",
   "metadata": {},
   "source": [
    "#comparision operators\n",
    "-used to compare the values\n",
    "-operators\n",
    "  - **'=='**\n",
    "  - **'!='**\n",
    "  - **'<'**\n",
    "  - **'>'**\n",
    "  - **'<='**\n",
    "  - **'>='**"
   ]
  },
  {
   "cell_type": "code",
   "execution_count": 4,
   "id": "fdfdd5be",
   "metadata": {},
   "outputs": [
    {
     "name": "stdout",
     "output_type": "stream",
     "text": [
      "False\n",
      "True\n",
      "True\n",
      "False\n",
      "True\n",
      "False\n"
     ]
    }
   ],
   "source": [
    "a=4\n",
    "b=7\n",
    "print(a==b)\n",
    "print(a!=b)\n",
    "print(a<b)\n",
    "print(a>b)\n",
    "print(a<=b)\n",
    "print(a>=b)"
   ]
  },
  {
   "cell_type": "markdown",
   "id": "196106c6",
   "metadata": {},
   "source": [
    "# logical operators\n",
    "- used to combine conditional statements\n",
    "- operators\n",
    "   - **'and'**\n",
    "   - **'or'**\n",
    "   - **'not'**"
   ]
  },
  {
   "cell_type": "code",
   "execution_count": 9,
   "id": "206dfab8",
   "metadata": {},
   "outputs": [
    {
     "name": "stdout",
     "output_type": "stream",
     "text": [
      "True\n",
      "True\n",
      "False\n"
     ]
    }
   ],
   "source": [
    "x=6\n",
    "print(x>5 and x<9)\n",
    "print(x>5 or x<9)\n",
    "print(not(x>5 and x<9))\n",
    "\n"
   ]
  },
  {
   "cell_type": "markdown",
   "id": "47701e0b",
   "metadata": {},
   "source": [
    "# identity operator\n",
    "- used to compare objects\n",
    "- **'is'**\n",
    "- **'is not'**"
   ]
  },
  {
   "cell_type": "code",
   "execution_count": 8,
   "id": "918e8a7e",
   "metadata": {},
   "outputs": [
    {
     "name": "stdout",
     "output_type": "stream",
     "text": [
      "False\n",
      "True\n",
      "False\n",
      "False\n",
      "False\n",
      "False\n"
     ]
    }
   ],
   "source": [
    "x=8\n",
    "y=5\n",
    "z=6\n",
    "print(x is y)\n",
    "print(x is not y)\n",
    "print(x is y is z)\n",
    "print(x is z)\n",
    "print(z is y)\n",
    "print(x is y is not z)"
   ]
  },
  {
   "cell_type": "markdown",
   "id": "5fb6a896",
   "metadata": {},
   "source": [
    "# membership operator\n",
    "- used to test given sequence is presented or not\n",
    "- operators\n",
    "   - **'in'**\n",
    "   - **' not in'**"
   ]
  },
  {
   "cell_type": "code",
   "execution_count": 10,
   "id": "d2765391",
   "metadata": {},
   "outputs": [
    {
     "name": "stdout",
     "output_type": "stream",
     "text": [
      "True\n",
      "True\n",
      "True\n",
      "False\n"
     ]
    }
   ],
   "source": [
    "s=\"python\"\n",
    "print(\"y\" in s)\n",
    "print(\"py\" in s)\n",
    "print(\"thon\" in s)\n",
    "print(\"thy\" in s)\n"
   ]
  },
  {
   "cell_type": "markdown",
   "id": "820c3976",
   "metadata": {},
   "source": [
    "# control flow statements\n",
    "- conditional statements\n",
    "  - if-else statement\n",
    "- looping statements\n",
    "  - while loop statement\n",
    "  - for loop statement"
   ]
  },
  {
   "cell_type": "code",
   "execution_count": 14,
   "id": "cd73bd96",
   "metadata": {},
   "outputs": [
    {
     "ename": "SyntaxError",
     "evalue": "invalid syntax (Temp/ipykernel_10672/1010046277.py, line 2)",
     "output_type": "error",
     "traceback": [
      "\u001b[1;36m  File \u001b[1;32m\"C:\\Users\\user15\\AppData\\Local\\Temp/ipykernel_10672/1010046277.py\"\u001b[1;36m, line \u001b[1;32m2\u001b[0m\n\u001b[1;33m    - **if boolean_conditions:**\u001b[0m\n\u001b[1;37m      ^\u001b[0m\n\u001b[1;31mSyntaxError\u001b[0m\u001b[1;31m:\u001b[0m invalid syntax\n"
     ]
    }
   ],
   "source": [
    "# syntax\n",
    "- **if boolean_conditions:**\n",
    "    - **statements**\n",
    "- **elif boolean_conditions:**\n",
    "      - **statements**\n",
    "- **else**     \n",
    " - **statements**\n",
    "        "
   ]
  },
  {
   "cell_type": "code",
   "execution_count": 15,
   "id": "806c5b64",
   "metadata": {},
   "outputs": [
    {
     "name": "stdout",
     "output_type": "stream",
     "text": [
      "enter a number5\n",
      "number is odd\n"
     ]
    }
   ],
   "source": [
    "# check given number is even or odd\n",
    "n=int(input(\"enter a number\"))\n",
    "if n%2==0:\n",
    "    print(\"number is even\")\n",
    "else:\n",
    "    print(\"number is odd\")"
   ]
  },
  {
   "cell_type": "code",
   "execution_count": 1,
   "id": "258c1d3e",
   "metadata": {},
   "outputs": [
    {
     "name": "stdout",
     "output_type": "stream",
     "text": [
      "enter a number:5\n",
      "no\n"
     ]
    }
   ],
   "source": [
    "# check given number is multiple of 3 and 5\n",
    "n=int(input(\"enter a number:\"))\n",
    "if n%3==0 and n%5==0:\n",
    "    print(\"yes\")\n",
    "else:\n",
    "    print(\"no\")"
   ]
  },
  {
   "cell_type": "code",
   "execution_count": 5,
   "id": "21f048a8",
   "metadata": {},
   "outputs": [
    {
     "name": "stdout",
     "output_type": "stream",
     "text": [
      "enter a num:6\n",
      "positive number\n"
     ]
    }
   ],
   "source": [
    "# check given number is positive ,negative or zero\n",
    "n=int(input(\"enter a num:\"))\n",
    "if (n>0):\n",
    "    print(\"positive number\")\n",
    "elif(n<0):\n",
    "    print(\"negative number\")\n",
    "else:\n",
    "    print(\"number zero\")"
   ]
  },
  {
   "cell_type": "code",
   "execution_count": 7,
   "id": "748b83b6",
   "metadata": {},
   "outputs": [
    {
     "name": "stdout",
     "output_type": "stream",
     "text": [
      "enter a 1st number:5\n",
      "enter a 2nd number:7\n",
      "enter a 3rd number:6\n",
      "b is large\n"
     ]
    }
   ],
   "source": [
    "# find large number from 3 inputs\n",
    "a=int(input(\"enter a 1st number:\"))\n",
    "b=int(input(\"enter a 2nd number:\"))\n",
    "c=int(input(\"enter a 3rd number:\"))\n",
    "if a>b and a>c:\n",
    "    print(\"a is large\")\n",
    "elif b>c and b>a:\n",
    "    print(\"b is large\")\n",
    "else:\n",
    "    print(\"c is large\")"
   ]
  },
  {
   "cell_type": "code",
   "execution_count": 9,
   "id": "0af96479",
   "metadata": {},
   "outputs": [
    {
     "name": "stdout",
     "output_type": "stream",
     "text": [
      "enter marks:54\n",
      "C\n"
     ]
    }
   ],
   "source": [
    "# find grading\n",
    "a=int(input(\"enter marks:\"))\n",
    "if a>80:\n",
    "    print(\"A\")\n",
    "elif a>60 and a<80:\n",
    "    print(\"B\")\n",
    "elif a>50 and a<60:\n",
    "    print(\"C\")\n",
    "elif a>45 and a<50:\n",
    "    print(\"D\")\n",
    "else:\n",
    "    print(\"E\")"
   ]
  },
  {
   "cell_type": "markdown",
   "id": "29e768d4",
   "metadata": {},
   "source": [
    "# while loop statement\n"
   ]
  },
  {
   "cell_type": "markdown",
   "id": "5b9c7622",
   "metadata": {},
   "source": [
    "#syntax\n",
    "- **while boolean_conditions:**\n",
    "     -  **statements**\n",
    "     -  **increment/decrement**\n"
   ]
  },
  {
   "cell_type": "code",
   "execution_count": 13,
   "id": "59e570f1",
   "metadata": {},
   "outputs": [
    {
     "name": "stdout",
     "output_type": "stream",
     "text": [
      "python\n",
      "python\n",
      "python\n",
      "python\n",
      "python\n"
     ]
    }
   ],
   "source": [
    "# want to print python 5 times\n",
    "i=1\n",
    "while i<=5:\n",
    "    print(\"python\")\n",
    "    i=i+1"
   ]
  },
  {
   "cell_type": "code",
   "execution_count": 14,
   "id": "686eaf7c",
   "metadata": {},
   "outputs": [
    {
     "name": "stdout",
     "output_type": "stream",
     "text": [
      "1 2 3 4 5 6 7 8 9 10 "
     ]
    }
   ],
   "source": [
    "# print fron 1 to 10\n",
    "i=1\n",
    "while i<=10:\n",
    "    print(i,end=\" \")\n",
    "    i=i+1"
   ]
  },
  {
   "cell_type": "code",
   "execution_count": 1,
   "id": "48c0a7af",
   "metadata": {},
   "outputs": [
    {
     "name": "stdout",
     "output_type": "stream",
     "text": [
      "2 4 6 8 10 "
     ]
    }
   ],
   "source": [
    "#wnt to print even number\n",
    "i=1\n",
    "while i<=10:\n",
    "    if(i%2==0):\n",
    "        print(i,end=\" \")\n",
    "    i=i+1"
   ]
  },
  {
   "cell_type": "code",
   "execution_count": 5,
   "id": "56179524",
   "metadata": {},
   "outputs": [
    {
     "name": "stdout",
     "output_type": "stream",
     "text": [
      "enter the number:86\n",
      "1 2 43 86 "
     ]
    }
   ],
   "source": [
    "# want to print factorials\n",
    "\n",
    "n=int(input(\"enter the number:\"))\n",
    "i=1\n",
    "while(i<=n):\n",
    "    if(n%i==0):\n",
    "        print(i,end=\" \")\n",
    "    i=i+1    "
   ]
  },
  {
   "cell_type": "code",
   "execution_count": null,
   "id": "5d67b3fe",
   "metadata": {},
   "outputs": [],
   "source": []
  }
 ],
 "metadata": {
  "kernelspec": {
   "display_name": "Python 3 (ipykernel)",
   "language": "python",
   "name": "python3"
  },
  "language_info": {
   "codemirror_mode": {
    "name": "ipython",
    "version": 3
   },
   "file_extension": ".py",
   "mimetype": "text/x-python",
   "name": "python",
   "nbconvert_exporter": "python",
   "pygments_lexer": "ipython3",
   "version": "3.9.7"
  }
 },
 "nbformat": 4,
 "nbformat_minor": 5
}
